{
  "metadata": {
    "kernelspec": {
      "name": "python",
      "display_name": "Python (Pyodide)",
      "language": "python"
    },
    "language_info": {
      "codemirror_mode": {
        "name": "python",
        "version": 3
      },
      "file_extension": ".py",
      "mimetype": "text/x-python",
      "name": "python",
      "nbconvert_exporter": "python",
      "pygments_lexer": "ipython3",
      "version": "3.8"
    }
  },
  "nbformat_minor": 5,
  "nbformat": 4,
  "cells": [
    {
      "cell_type": "markdown",
      "source": "# Desafio 1",
      "metadata": {
        "tags": []
      },
      "id": "protective-hanging"
    },
    {
      "cell_type": "markdown",
      "source": "### Exercício 1 - Conjectura de Legendre\n\nA Conjectura de Legendre, enunciada por de Adrien-Marie Legendre, afirma que existe sempre um número primo entre $n^2 $ e $(n+1)^2$, para qualquer $n$ inteiro positivo\n\nSeu desafio será criar uma função que, dado um input (inteiro n) retorne todos os números primos entre $n^2$ e $(n+1)^2$. \n\nExemplo:\n\n    > input: 4\n    \n    > output: [17,19,23]",
      "metadata": {
        "tags": []
      },
      "id": "traditional-polymer"
    },
    {
      "cell_type": "code",
      "source": "def isprime(n):\n    \"\"\"\n    Esta função verifica se um número é ou não primo    \n    \"\"\"        \n    if n<=1:\n        print('número inválido')\n        return False\n\n    elif n >= 2:        \n        for i in range(2,n):\n            if (n % i) == 0:\n                return False\n        return True",
      "metadata": {
        "tags": [],
        "trusted": true
      },
      "execution_count": 2,
      "outputs": [],
      "id": "indoor-graduation"
    },
    {
      "cell_type": "code",
      "source": "def LegendreConjecture(n):\n    \"\"\"\n    Esta função calcula a conjectura de Legendre, como descrita acima\n    \"\"\"\n    n1 = n**2\n    n2 = (n+1)**2\n    num_primos = []\n\n    for i in range(n**2,((n+1)**2)+1):\n        if isprime(i):\n            num_primos.append(i)\n    return num_primos",
      "metadata": {
        "tags": [],
        "trusted": true
      },
      "execution_count": 3,
      "outputs": [],
      "id": "surgical-smile"
    },
    {
      "cell_type": "code",
      "source": "#teste\nLegendreConjecture(4)\n",
      "metadata": {
        "tags": [],
        "trusted": true
      },
      "execution_count": 4,
      "outputs": [
        {
          "execution_count": 4,
          "output_type": "execute_result",
          "data": {
            "text/plain": "[17, 19, 23]"
          },
          "metadata": {}
        }
      ],
      "id": "greenhouse-partner"
    },
    {
      "cell_type": "markdown",
      "source": "### Exercício 2\n\nDada a seguinte string s, escreva uma expressão regular que retorne todos os números de telefone contidos nela.",
      "metadata": {
        "tags": []
      },
      "id": "european-enlargement"
    },
    {
      "cell_type": "code",
      "source": "s = 'Office of Research Administration: (734) 647-6333 | 4325 North Quad \\\nOffice of Budget and Financial Administration: (734) 647-8044 | 309 Maynard, Suite 205 \\\nHealth Informatics Program: (734) 763-2285 | 333 Maynard, Suite 500 \\\nOffice of the Dean: (734) 647-3576 | 4322 North Quad \\\nUMSI Engagement Center: (734) 763-1251 | 777 North University \\\nFaculty Adminstrative Support Staff: (734) 764-9376 | 4322 North Quad'",
      "metadata": {
        "trusted": true
      },
      "execution_count": 5,
      "outputs": [],
      "id": "worth-engineering"
    },
    {
      "cell_type": "code",
      "source": "import re\n\ndef numeros_tel(s):\n    numeros = re.findall(r'\\(\\d{3}\\)\\s*\\d{3}[-.\\s]?\\d{4}', s)\n    return numeros\n\nnum_tel = numeros_tel(s)\nprint(num_tel)",
      "metadata": {
        "trusted": true
      },
      "execution_count": 6,
      "outputs": [
        {
          "name": "stdout",
          "text": "['(734) 647-6333', '(734) 647-8044', '(734) 763-2285', '(734) 647-3576', '(734) 763-1251', '(734) 764-9376']\n",
          "output_type": "stream"
        }
      ],
      "id": "valid-blink"
    },
    {
      "cell_type": "markdown",
      "source": "### Exercício 3\nA distância L2, ou distância Euclidiana, é definida pela seguinte fórmula: \n\n$L2 = \\sqrt{\\sum_{i=1}^n (a_i - b_i)^2}$\n\nEscreva uma função que receba dois parâmetros, a e b, e retorne a distância L2 entre eles. a e b precisam ser um numpy.array de mesmo tamanho",
      "metadata": {
        "tags": []
      },
      "id": "close-effect"
    },
    {
      "cell_type": "code",
      "source": "def l2_dist(a, b):\n    \n    if len(a) != len(b):\n        print('os arrays precisam ter o tamanho igual')\n    pass\n\n    dif = (a - b) ** 2\n\n    soma = np.sum(dif, axis=0)\n\n    dist = np.sqrt(soma)\n\n    return dist\n    ",
      "metadata": {
        "trusted": true
      },
      "execution_count": 7,
      "outputs": [],
      "id": "sapphire-absorption"
    },
    {
      "cell_type": "code",
      "source": "import numpy as np\na = np.array([1,2,4,6])\nb = np.array([1,3,5,7])\nl2_dist(a,b)",
      "metadata": {
        "trusted": true
      },
      "execution_count": 8,
      "outputs": [
        {
          "execution_count": 8,
          "output_type": "execute_result",
          "data": {
            "text/plain": "1.7320508075688772"
          },
          "metadata": {}
        }
      ],
      "id": "upper-somerset"
    },
    {
      "cell_type": "markdown",
      "source": "### Exercício 4\nVamos utilizar o dataset breast_cancer_data.csv para fazer uma análise exploratória cujo objetivo é responder a alguns questionamentos que surgiram a respeito desse conjunto.\n\nVamos começar lendo e entendendo nossos dados:",
      "metadata": {
        "tags": []
      },
      "id": "superior-lambda"
    },
    {
      "cell_type": "code",
      "source": "import pandas as pd\nimport numpy as np",
      "metadata": {
        "trusted": true
      },
      "execution_count": 9,
      "outputs": [],
      "id": "patent-cycling"
    },
    {
      "cell_type": "code",
      "source": "colunas = ['id','clump_thickness','cell_size_uniformity','cell_shape_uniformity','marginal_adhesion','single_ep_cell_size',\n          'bare_nuclei','bland_chromatin','normal_nucleoli','mitoses','class','doctor_name']\n\ndata = pd.read_csv('bases/breast_cancer_data.csv',names=colunas)\ndata.head()",
      "metadata": {
        "trusted": true
      },
      "execution_count": 10,
      "outputs": [
        {
          "execution_count": 10,
          "output_type": "execute_result",
          "data": {
            "text/plain": "        id  clump_thickness  cell_size_uniformity  cell_shape_uniformity  \\\n0  1000025              5.0                   1.0                      1   \n1  1002945              5.0                   4.0                      4   \n2  1015425              3.0                   1.0                      1   \n3  1016277              6.0                   8.0                      8   \n4  1017023              4.0                   1.0                      1   \n\n   marginal_adhesion  single_ep_cell_size bare_nuclei  bland_chromatin  \\\n0                  1                    2           1              3.0   \n1                  5                    7          10              3.0   \n2                  1                    2           2              3.0   \n3                  1                    3           4              3.0   \n4                  3                    2           1              3.0   \n\n   normal_nucleoli  mitoses   class doctor_name  \n0              1.0        1  benign     Dr. Doe  \n1              2.0        1  benign   Dr. Smith  \n2              1.0        1  benign     Dr. Lee  \n3              7.0        1  benign   Dr. Smith  \n4              1.0        1  benign    Dr. Wong  ",
            "text/html": "<div>\n<style scoped>\n    .dataframe tbody tr th:only-of-type {\n        vertical-align: middle;\n    }\n\n    .dataframe tbody tr th {\n        vertical-align: top;\n    }\n\n    .dataframe thead th {\n        text-align: right;\n    }\n</style>\n<table border=\"1\" class=\"dataframe\">\n  <thead>\n    <tr style=\"text-align: right;\">\n      <th></th>\n      <th>id</th>\n      <th>clump_thickness</th>\n      <th>cell_size_uniformity</th>\n      <th>cell_shape_uniformity</th>\n      <th>marginal_adhesion</th>\n      <th>single_ep_cell_size</th>\n      <th>bare_nuclei</th>\n      <th>bland_chromatin</th>\n      <th>normal_nucleoli</th>\n      <th>mitoses</th>\n      <th>class</th>\n      <th>doctor_name</th>\n    </tr>\n  </thead>\n  <tbody>\n    <tr>\n      <th>0</th>\n      <td>1000025</td>\n      <td>5.0</td>\n      <td>1.0</td>\n      <td>1</td>\n      <td>1</td>\n      <td>2</td>\n      <td>1</td>\n      <td>3.0</td>\n      <td>1.0</td>\n      <td>1</td>\n      <td>benign</td>\n      <td>Dr. Doe</td>\n    </tr>\n    <tr>\n      <th>1</th>\n      <td>1002945</td>\n      <td>5.0</td>\n      <td>4.0</td>\n      <td>4</td>\n      <td>5</td>\n      <td>7</td>\n      <td>10</td>\n      <td>3.0</td>\n      <td>2.0</td>\n      <td>1</td>\n      <td>benign</td>\n      <td>Dr. Smith</td>\n    </tr>\n    <tr>\n      <th>2</th>\n      <td>1015425</td>\n      <td>3.0</td>\n      <td>1.0</td>\n      <td>1</td>\n      <td>1</td>\n      <td>2</td>\n      <td>2</td>\n      <td>3.0</td>\n      <td>1.0</td>\n      <td>1</td>\n      <td>benign</td>\n      <td>Dr. Lee</td>\n    </tr>\n    <tr>\n      <th>3</th>\n      <td>1016277</td>\n      <td>6.0</td>\n      <td>8.0</td>\n      <td>8</td>\n      <td>1</td>\n      <td>3</td>\n      <td>4</td>\n      <td>3.0</td>\n      <td>7.0</td>\n      <td>1</td>\n      <td>benign</td>\n      <td>Dr. Smith</td>\n    </tr>\n    <tr>\n      <th>4</th>\n      <td>1017023</td>\n      <td>4.0</td>\n      <td>1.0</td>\n      <td>1</td>\n      <td>3</td>\n      <td>2</td>\n      <td>1</td>\n      <td>3.0</td>\n      <td>1.0</td>\n      <td>1</td>\n      <td>benign</td>\n      <td>Dr. Wong</td>\n    </tr>\n  </tbody>\n</table>\n</div>"
          },
          "metadata": {}
        }
      ],
      "id": "smoking-gibson"
    },
    {
      "cell_type": "markdown",
      "source": "#### TODO 2.1: entendimento básico dos dados - preencha as lacunas no código a fim de obter o resultado desejado",
      "metadata": {
        "tags": []
      },
      "id": "otherwise-submission"
    },
    {
      "cell_type": "code",
      "source": "# quantas linhas e quantas colunas existem no dataset?\nlin = data.shape[0]\ncol = data.shape[1]\n\nprint('linhas: ', lin, '\\n')\nprint('colunas: ', col, '\\n')",
      "metadata": {
        "trusted": true
      },
      "execution_count": 11,
      "outputs": [
        {
          "name": "stdout",
          "text": "linhas:  699 \n\ncolunas:  12 \n\n",
          "output_type": "stream"
        }
      ],
      "id": "processed-visiting"
    },
    {
      "cell_type": "code",
      "source": "# quais os tipos de dados de cada coluna?\ntipos = data.dtypes\n\nprint('tipos de dados: \\n', tipos,'\\n')",
      "metadata": {
        "trusted": true
      },
      "execution_count": 12,
      "outputs": [
        {
          "name": "stdout",
          "text": "tipos de dados: \n id                         int64\nclump_thickness          float64\ncell_size_uniformity     float64\ncell_shape_uniformity      int64\nmarginal_adhesion          int64\nsingle_ep_cell_size        int64\nbare_nuclei               object\nbland_chromatin          float64\nnormal_nucleoli          float64\nmitoses                    int64\nclass                     object\ndoctor_name               object\ndtype: object \n\n",
          "output_type": "stream"
        }
      ],
      "id": "bac30de9-40a0-4dc5-ba58-049c3966da19"
    },
    {
      "cell_type": "code",
      "source": "# quais as principais estatísticas dos dados numéricos do dataset?\n\nfor i in data:\n    if data[i].dtype == 'int64' or data[i].dtype == 'float64':\n        print('\\n principais estatísticas: \\n Média: ', data[i].mean(), '\\n Mediana: ', data[i].median(), '\\n Moda: ', data[i].mode())",
      "metadata": {
        "trusted": true
      },
      "execution_count": 13,
      "outputs": [
        {
          "name": "stdout",
          "text": "\n principais estatísticas: \n Média:  1071704.0987124464 \n Mediana:  1171710.0 \n Moda:  0    1182404\nName: id, dtype: int64\n\n principais estatísticas: \n Média:  4.416905444126074 \n Mediana:  4.0 \n Moda:  0    1.0\nName: clump_thickness, dtype: float64\n\n principais estatísticas: \n Média:  3.1375358166189113 \n Mediana:  1.0 \n Moda:  0    1.0\nName: cell_size_uniformity, dtype: float64\n\n principais estatísticas: \n Média:  3.207439198855508 \n Mediana:  1.0 \n Moda:  0    1\nName: cell_shape_uniformity, dtype: int64\n\n principais estatísticas: \n Média:  2.7939914163090127 \n Mediana:  1.0 \n Moda:  0    1\nName: marginal_adhesion, dtype: int64\n\n principais estatísticas: \n Média:  3.216022889842632 \n Mediana:  2.0 \n Moda:  0    2\nName: single_ep_cell_size, dtype: int64\n\n principais estatísticas: \n Média:  3.447482014388489 \n Mediana:  3.0 \n Moda:  0    2.0\nName: bland_chromatin, dtype: float64\n\n principais estatísticas: \n Média:  2.8681948424068766 \n Mediana:  1.0 \n Moda:  0    1.0\nName: normal_nucleoli, dtype: float64\n\n principais estatísticas: \n Média:  1.5894134477825466 \n Mediana:  1.0 \n Moda:  0    1\nName: mitoses, dtype: int64\n",
          "output_type": "stream"
        }
      ],
      "id": "f711d65e-d6f2-4976-928a-130b4bafc995"
    },
    {
      "cell_type": "markdown",
      "source": "#### TODO 2.2: obtendo informações sobre o dataset\n\nretorne uma Serie que mostre qual a classificação (maligno e benigno) que cada médico deu para cada amostra: \n",
      "metadata": {
        "tags": []
      },
      "id": "graphic-newsletter"
    },
    {
      "cell_type": "code",
      "source": "# Exemplo de retorno\n#  class      doctor_name\n#  benign   Dr. Doe        127\n#           Dr. Lee        121\n#           Dr. Smith      102\n#           Dr. Wong       108",
      "metadata": {
        "trusted": true
      },
      "execution_count": 14,
      "outputs": [],
      "id": "closed-blake"
    },
    {
      "cell_type": "code",
      "source": "# Resposta: \n\nclassificacao = data.groupby(by = ['class','doctor_name']).size().sort_values(ascending = False)\nprint(classificacao)",
      "metadata": {
        "trusted": true
      },
      "execution_count": 15,
      "outputs": [
        {
          "name": "stdout",
          "text": "class      doctor_name\nbenign     Dr. Doe        127\n           Dr. Lee        121\n           Dr. Wong       108\n           Dr. Smith      102\nmalignant  Dr. Smith       74\n           Dr. Lee         60\n           Dr. Doe         58\n           Dr. Wong        49\ndtype: int64\n",
          "output_type": "stream"
        }
      ],
      "id": "logical-identity"
    },
    {
      "cell_type": "markdown",
      "source": "#### TODO 2.3: obtendo informações sobre o dataset",
      "metadata": {
        "tags": []
      },
      "id": "lightweight-robert"
    },
    {
      "cell_type": "code",
      "source": "# Use o método select_dtypes() para selecionar apenas colunas do tipo float64 e int64. Armazene na variável data_num\ndata_num = data.select_dtypes(['float64','int64'])\n#print(data_num)\n\n#corr\n# Encontre as n variáveis que possuem um valor absoluto de correlação maior que 0.5 com a variável clump_thickness, excluindo ela mesma \n# retorne os valores de forma descendente\n# sempre utilize a variável data_num para receber o resultado de suas operações\n\ncorrelacao = data_num.corr(method='pearson')\ndata_num = correlacao.iloc[1,]\ndata_num.drop('clump_thickness', axis=0, inplace=True)\ndata_num = data_num[data_num >= 0.5]\nprint(\"Existem {} variáveis correlacionadas com clump_thickness:\\n\\n{}\".format(len(data_num), data_num))",
      "metadata": {
        "trusted": true
      },
      "execution_count": 16,
      "outputs": [
        {
          "name": "stdout",
          "text": "Existem 5 variáveis correlacionadas com clump_thickness:\n\ncell_size_uniformity     0.644636\ncell_shape_uniformity    0.654632\nsingle_ep_cell_size      0.522108\nbland_chromatin          0.558924\nnormal_nucleoli          0.535773\nName: clump_thickness, dtype: float64\n",
          "output_type": "stream"
        }
      ],
      "id": "computational-crown"
    },
    {
      "cell_type": "markdown",
      "source": "#### TODO 2.4: obtendo informações sobre o dataset",
      "metadata": {
        "tags": []
      },
      "id": "encouraging-madness"
    },
    {
      "cell_type": "code",
      "source": "# qual o tamanho médio das células para cada tipo de tumor?\ngrupo = data.groupby(by=['class']).mean(numeric_only=True)\ngrupo = grupo.iloc[[0,1],2]\nbenigno = grupo.loc['benign']\nmaligno = grupo.loc['malignant']\n\nprint('Tamanho médio do tipo benigno: \\n',benigno,'\\n') \nprint('Tamanho médio do tipo maligno: \\n',maligno,'\\n')\n",
      "metadata": {
        "trusted": true
      },
      "execution_count": 17,
      "outputs": [
        {
          "name": "stdout",
          "text": "Tamanho médio do tipo benigno: \n 1.3260393873085339 \n\nTamanho médio do tipo maligno: \n 6.572614107883817 \n\n",
          "output_type": "stream"
        }
      ],
      "id": "sought-greensboro"
    },
    {
      "cell_type": "code",
      "source": "# qual o número máximo de mitoses em tumores benignos encontrados pelo Dr. Wong?\nclasse = data['mitoses'][(data['class'] == 'benign') & (data['doctor_name'] == 'Dr. Wong')].max(skipna=True)\nprint('Número máximo de mitoses em tumores benignos: ', classe)",
      "metadata": {
        "trusted": true
      },
      "execution_count": 18,
      "outputs": [
        {
          "name": "stdout",
          "text": "Número máximo de mitoses em tumores benignos:  3\n",
          "output_type": "stream"
        }
      ],
      "id": "a40cfe52-69f1-4b54-9e43-022343390404"
    },
    {
      "cell_type": "code",
      "source": "# e qual o número máximo de mitoses em tumores malignos encontrados pelo mesmo médico?\nmalignos = data[(data['class'] == 'malignant')]\nprint('\\nNúmero máximo de mitoses em tumores malignos: ', malignos['mitoses'].max(skipna = True))",
      "metadata": {
        "trusted": true
      },
      "execution_count": 19,
      "outputs": [
        {
          "name": "stdout",
          "text": "\nNúmero máximo de mitoses em tumores malignos:  10\n",
          "output_type": "stream"
        }
      ],
      "id": "580a02d2-2f8e-49a2-a3f8-5053a52cf8ce"
    },
    {
      "cell_type": "markdown",
      "source": "#### TODO 2.5: filtrando os dados",
      "metadata": {
        "tags": []
      },
      "id": "accredited-columbia"
    },
    {
      "cell_type": "code",
      "source": "# Existem três pacientes (id) que aparecem mais que duas vezes no dataset. Retorne uma série ordenada de forma descendente que mostre o\n# id do paciente bem como a quantidade de vezes que ele aparece repetido no dataset\nduplica_data = data.loc[data['id'].duplicated()].groupby('id').size() + 1\nrepete_pacientes = duplica_data.loc[duplica_data > 2].sort_values(ascending = False)\n#repete_pacientes\n\n# Elimine esses três pacientes do dataframe de modo que este contenha apenas pacientes que apareceram no máximo duas vezes\nfiltra_pacientes = data.loc[data['id'].isin(repete_pacientes.index)]\npacientes_filtrado = data.loc[~data['id'].isin(repete_pacientes.index)]\n\n#retorne o dataset completo  \npacientes_filtrado",
      "metadata": {
        "trusted": true
      },
      "execution_count": 20,
      "outputs": [
        {
          "execution_count": 20,
          "output_type": "execute_result",
          "data": {
            "text/plain": "          id  clump_thickness  cell_size_uniformity  cell_shape_uniformity  \\\n0    1000025              5.0                   1.0                      1   \n1    1002945              5.0                   4.0                      4   \n2    1015425              3.0                   1.0                      1   \n3    1016277              6.0                   8.0                      8   \n4    1017023              4.0                   1.0                      1   \n..       ...              ...                   ...                    ...   \n694   776715              3.0                   1.0                      1   \n695   841769              2.0                   1.0                      1   \n696   888820              5.0                  10.0                     10   \n697   897471              4.0                   8.0                      6   \n698   897471              4.0                   8.0                      8   \n\n     marginal_adhesion  single_ep_cell_size bare_nuclei  bland_chromatin  \\\n0                    1                    2           1              3.0   \n1                    5                    7          10              3.0   \n2                    1                    2           2              3.0   \n3                    1                    3           4              3.0   \n4                    3                    2           1              3.0   \n..                 ...                  ...         ...              ...   \n694                  1                    3           2              1.0   \n695                  1                    2           1              1.0   \n696                  3                    7           3              8.0   \n697                  4                    3           4             10.0   \n698                  5                    4           5             10.0   \n\n     normal_nucleoli  mitoses      class doctor_name  \n0                1.0        1     benign     Dr. Doe  \n1                2.0        1     benign   Dr. Smith  \n2                1.0        1     benign     Dr. Lee  \n3                7.0        1     benign   Dr. Smith  \n4                1.0        1     benign    Dr. Wong  \n..               ...      ...        ...         ...  \n694              1.0        1     benign     Dr. Lee  \n695              1.0        1     benign   Dr. Smith  \n696             10.0        2  malignant     Dr. Lee  \n697              6.0        1  malignant     Dr. Lee  \n698              4.0        1  malignant    Dr. Wong  \n\n[685 rows x 12 columns]",
            "text/html": "<div>\n<style scoped>\n    .dataframe tbody tr th:only-of-type {\n        vertical-align: middle;\n    }\n\n    .dataframe tbody tr th {\n        vertical-align: top;\n    }\n\n    .dataframe thead th {\n        text-align: right;\n    }\n</style>\n<table border=\"1\" class=\"dataframe\">\n  <thead>\n    <tr style=\"text-align: right;\">\n      <th></th>\n      <th>id</th>\n      <th>clump_thickness</th>\n      <th>cell_size_uniformity</th>\n      <th>cell_shape_uniformity</th>\n      <th>marginal_adhesion</th>\n      <th>single_ep_cell_size</th>\n      <th>bare_nuclei</th>\n      <th>bland_chromatin</th>\n      <th>normal_nucleoli</th>\n      <th>mitoses</th>\n      <th>class</th>\n      <th>doctor_name</th>\n    </tr>\n  </thead>\n  <tbody>\n    <tr>\n      <th>0</th>\n      <td>1000025</td>\n      <td>5.0</td>\n      <td>1.0</td>\n      <td>1</td>\n      <td>1</td>\n      <td>2</td>\n      <td>1</td>\n      <td>3.0</td>\n      <td>1.0</td>\n      <td>1</td>\n      <td>benign</td>\n      <td>Dr. Doe</td>\n    </tr>\n    <tr>\n      <th>1</th>\n      <td>1002945</td>\n      <td>5.0</td>\n      <td>4.0</td>\n      <td>4</td>\n      <td>5</td>\n      <td>7</td>\n      <td>10</td>\n      <td>3.0</td>\n      <td>2.0</td>\n      <td>1</td>\n      <td>benign</td>\n      <td>Dr. Smith</td>\n    </tr>\n    <tr>\n      <th>2</th>\n      <td>1015425</td>\n      <td>3.0</td>\n      <td>1.0</td>\n      <td>1</td>\n      <td>1</td>\n      <td>2</td>\n      <td>2</td>\n      <td>3.0</td>\n      <td>1.0</td>\n      <td>1</td>\n      <td>benign</td>\n      <td>Dr. Lee</td>\n    </tr>\n    <tr>\n      <th>3</th>\n      <td>1016277</td>\n      <td>6.0</td>\n      <td>8.0</td>\n      <td>8</td>\n      <td>1</td>\n      <td>3</td>\n      <td>4</td>\n      <td>3.0</td>\n      <td>7.0</td>\n      <td>1</td>\n      <td>benign</td>\n      <td>Dr. Smith</td>\n    </tr>\n    <tr>\n      <th>4</th>\n      <td>1017023</td>\n      <td>4.0</td>\n      <td>1.0</td>\n      <td>1</td>\n      <td>3</td>\n      <td>2</td>\n      <td>1</td>\n      <td>3.0</td>\n      <td>1.0</td>\n      <td>1</td>\n      <td>benign</td>\n      <td>Dr. Wong</td>\n    </tr>\n    <tr>\n      <th>...</th>\n      <td>...</td>\n      <td>...</td>\n      <td>...</td>\n      <td>...</td>\n      <td>...</td>\n      <td>...</td>\n      <td>...</td>\n      <td>...</td>\n      <td>...</td>\n      <td>...</td>\n      <td>...</td>\n      <td>...</td>\n    </tr>\n    <tr>\n      <th>694</th>\n      <td>776715</td>\n      <td>3.0</td>\n      <td>1.0</td>\n      <td>1</td>\n      <td>1</td>\n      <td>3</td>\n      <td>2</td>\n      <td>1.0</td>\n      <td>1.0</td>\n      <td>1</td>\n      <td>benign</td>\n      <td>Dr. Lee</td>\n    </tr>\n    <tr>\n      <th>695</th>\n      <td>841769</td>\n      <td>2.0</td>\n      <td>1.0</td>\n      <td>1</td>\n      <td>1</td>\n      <td>2</td>\n      <td>1</td>\n      <td>1.0</td>\n      <td>1.0</td>\n      <td>1</td>\n      <td>benign</td>\n      <td>Dr. Smith</td>\n    </tr>\n    <tr>\n      <th>696</th>\n      <td>888820</td>\n      <td>5.0</td>\n      <td>10.0</td>\n      <td>10</td>\n      <td>3</td>\n      <td>7</td>\n      <td>3</td>\n      <td>8.0</td>\n      <td>10.0</td>\n      <td>2</td>\n      <td>malignant</td>\n      <td>Dr. Lee</td>\n    </tr>\n    <tr>\n      <th>697</th>\n      <td>897471</td>\n      <td>4.0</td>\n      <td>8.0</td>\n      <td>6</td>\n      <td>4</td>\n      <td>3</td>\n      <td>4</td>\n      <td>10.0</td>\n      <td>6.0</td>\n      <td>1</td>\n      <td>malignant</td>\n      <td>Dr. Lee</td>\n    </tr>\n    <tr>\n      <th>698</th>\n      <td>897471</td>\n      <td>4.0</td>\n      <td>8.0</td>\n      <td>8</td>\n      <td>5</td>\n      <td>4</td>\n      <td>5</td>\n      <td>10.0</td>\n      <td>4.0</td>\n      <td>1</td>\n      <td>malignant</td>\n      <td>Dr. Wong</td>\n    </tr>\n  </tbody>\n</table>\n<p>685 rows × 12 columns</p>\n</div>"
          },
          "metadata": {}
        }
      ],
      "id": "derived-james"
    },
    {
      "cell_type": "code",
      "source": "",
      "metadata": {},
      "execution_count": null,
      "outputs": [],
      "id": "8aa54a18-345f-41ea-be91-8cf8a39620de"
    }
  ]
}